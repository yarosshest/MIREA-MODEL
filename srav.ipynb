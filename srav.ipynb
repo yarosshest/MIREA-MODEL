{
 "cells": [
  {
   "cell_type": "code",
   "execution_count": 10,
   "outputs": [],
   "source": [
    "import pandas as pd\n",
    "from sklearn. preprocessing import normalize"
   ],
   "metadata": {
    "collapsed": false
   }
  },
  {
   "cell_type": "markdown",
   "source": [
    "# 1 Задание матрицы"
   ],
   "metadata": {
    "collapsed": false
   }
  },
  {
   "cell_type": "code",
   "execution_count": 14,
   "outputs": [
    {
     "data": {
      "text/plain": "                                  1         2         3         4         5  \\\n0                                                                             \nVSDC                       0.191233  0.608023  0.053267  0.961847  0.432690   \nKapwing                    0.458558  0.975191  0.200272  0.390622  0.536029   \niMovie                     0.778364  0.786749  0.552091  0.623745  0.226202   \nKdenlive                   0.407154  0.627086  0.480531  0.301524  0.656424   \nLightworks                 0.653136  0.664143  0.903275  0.394550  0.418610   \nAvid Media Composer First  0.592197  0.547132  0.295058  0.846045  0.939444   \nOpenshot                   0.628723  0.874880  0.608378  0.677870  0.284711   \nClipchamp                  0.534384  0.970923  0.517334  0.039397  0.176371   \nVideopad                   0.643275  0.393659  0.637049  0.096000  0.157416   \nDavinci Resolve            0.825800  0.419693  0.436496  0.896566  0.904889   \n\n                                  6         7         8  \n0                                                        \nVSDC                       0.088694  0.938416  0.041611  \nKapwing                    0.885164  0.487491  0.643270  \niMovie                     0.993093  0.568132  0.306231  \nKdenlive                   0.210341  0.077797  0.114924  \nLightworks                 0.494446  0.303637  0.480891  \nAvid Media Composer First  0.044977  0.979780  0.040310  \nOpenshot                   0.038188  0.215362  0.479328  \nClipchamp                  0.035650  0.544405  0.050500  \nVideopad                   0.726452  0.412503  0.459311  \nDavinci Resolve            0.058161  0.503145  0.579224  ",
      "text/html": "<div>\n<style scoped>\n    .dataframe tbody tr th:only-of-type {\n        vertical-align: middle;\n    }\n\n    .dataframe tbody tr th {\n        vertical-align: top;\n    }\n\n    .dataframe thead th {\n        text-align: right;\n    }\n</style>\n<table border=\"1\" class=\"dataframe\">\n  <thead>\n    <tr style=\"text-align: right;\">\n      <th></th>\n      <th>1</th>\n      <th>2</th>\n      <th>3</th>\n      <th>4</th>\n      <th>5</th>\n      <th>6</th>\n      <th>7</th>\n      <th>8</th>\n    </tr>\n    <tr>\n      <th>0</th>\n      <th></th>\n      <th></th>\n      <th></th>\n      <th></th>\n      <th></th>\n      <th></th>\n      <th></th>\n      <th></th>\n    </tr>\n  </thead>\n  <tbody>\n    <tr>\n      <th>VSDC</th>\n      <td>0.191233</td>\n      <td>0.608023</td>\n      <td>0.053267</td>\n      <td>0.961847</td>\n      <td>0.432690</td>\n      <td>0.088694</td>\n      <td>0.938416</td>\n      <td>0.041611</td>\n    </tr>\n    <tr>\n      <th>Kapwing</th>\n      <td>0.458558</td>\n      <td>0.975191</td>\n      <td>0.200272</td>\n      <td>0.390622</td>\n      <td>0.536029</td>\n      <td>0.885164</td>\n      <td>0.487491</td>\n      <td>0.643270</td>\n    </tr>\n    <tr>\n      <th>iMovie</th>\n      <td>0.778364</td>\n      <td>0.786749</td>\n      <td>0.552091</td>\n      <td>0.623745</td>\n      <td>0.226202</td>\n      <td>0.993093</td>\n      <td>0.568132</td>\n      <td>0.306231</td>\n    </tr>\n    <tr>\n      <th>Kdenlive</th>\n      <td>0.407154</td>\n      <td>0.627086</td>\n      <td>0.480531</td>\n      <td>0.301524</td>\n      <td>0.656424</td>\n      <td>0.210341</td>\n      <td>0.077797</td>\n      <td>0.114924</td>\n    </tr>\n    <tr>\n      <th>Lightworks</th>\n      <td>0.653136</td>\n      <td>0.664143</td>\n      <td>0.903275</td>\n      <td>0.394550</td>\n      <td>0.418610</td>\n      <td>0.494446</td>\n      <td>0.303637</td>\n      <td>0.480891</td>\n    </tr>\n    <tr>\n      <th>Avid Media Composer First</th>\n      <td>0.592197</td>\n      <td>0.547132</td>\n      <td>0.295058</td>\n      <td>0.846045</td>\n      <td>0.939444</td>\n      <td>0.044977</td>\n      <td>0.979780</td>\n      <td>0.040310</td>\n    </tr>\n    <tr>\n      <th>Openshot</th>\n      <td>0.628723</td>\n      <td>0.874880</td>\n      <td>0.608378</td>\n      <td>0.677870</td>\n      <td>0.284711</td>\n      <td>0.038188</td>\n      <td>0.215362</td>\n      <td>0.479328</td>\n    </tr>\n    <tr>\n      <th>Clipchamp</th>\n      <td>0.534384</td>\n      <td>0.970923</td>\n      <td>0.517334</td>\n      <td>0.039397</td>\n      <td>0.176371</td>\n      <td>0.035650</td>\n      <td>0.544405</td>\n      <td>0.050500</td>\n    </tr>\n    <tr>\n      <th>Videopad</th>\n      <td>0.643275</td>\n      <td>0.393659</td>\n      <td>0.637049</td>\n      <td>0.096000</td>\n      <td>0.157416</td>\n      <td>0.726452</td>\n      <td>0.412503</td>\n      <td>0.459311</td>\n    </tr>\n    <tr>\n      <th>Davinci Resolve</th>\n      <td>0.825800</td>\n      <td>0.419693</td>\n      <td>0.436496</td>\n      <td>0.896566</td>\n      <td>0.904889</td>\n      <td>0.058161</td>\n      <td>0.503145</td>\n      <td>0.579224</td>\n    </tr>\n  </tbody>\n</table>\n</div>"
     },
     "execution_count": 14,
     "metadata": {},
     "output_type": "execute_result"
    }
   ],
   "source": [
    "pd.read_excel('Шестаков_ИКБО-06-21_Видеоредакторы.xlsx', index_col=0, header=None, skiprows=2)"
   ],
   "metadata": {
    "collapsed": false
   }
  },
  {
   "cell_type": "markdown",
   "source": [],
   "metadata": {
    "collapsed": false
   }
  },
  {
   "cell_type": "code",
   "execution_count": 12,
   "outputs": [
    {
     "data": {
      "text/plain": "       1    2    3    4    5    6    7    8\n0                                          \nВес  0.1  0.1  0.2  0.1  0.2  0.1  0.1  0.1",
      "text/html": "<div>\n<style scoped>\n    .dataframe tbody tr th:only-of-type {\n        vertical-align: middle;\n    }\n\n    .dataframe tbody tr th {\n        vertical-align: top;\n    }\n\n    .dataframe thead th {\n        text-align: right;\n    }\n</style>\n<table border=\"1\" class=\"dataframe\">\n  <thead>\n    <tr style=\"text-align: right;\">\n      <th></th>\n      <th>1</th>\n      <th>2</th>\n      <th>3</th>\n      <th>4</th>\n      <th>5</th>\n      <th>6</th>\n      <th>7</th>\n      <th>8</th>\n    </tr>\n    <tr>\n      <th>0</th>\n      <th></th>\n      <th></th>\n      <th></th>\n      <th></th>\n      <th></th>\n      <th></th>\n      <th></th>\n      <th></th>\n    </tr>\n  </thead>\n  <tbody>\n    <tr>\n      <th>Вес</th>\n      <td>0.1</td>\n      <td>0.1</td>\n      <td>0.2</td>\n      <td>0.1</td>\n      <td>0.2</td>\n      <td>0.1</td>\n      <td>0.1</td>\n      <td>0.1</td>\n    </tr>\n  </tbody>\n</table>\n</div>"
     },
     "execution_count": 12,
     "metadata": {},
     "output_type": "execute_result"
    }
   ],
   "source": [
    "pd.read_excel('Шестаков_ИКБО-06-21_Видеоредакторы.xlsx', index_col=0, header=None,nrows=1)"
   ],
   "metadata": {
    "collapsed": false
   }
  },
  {
   "cell_type": "code",
   "execution_count": 12,
   "outputs": [],
   "source": [],
   "metadata": {
    "collapsed": false
   }
  }
 ],
 "metadata": {
  "kernelspec": {
   "display_name": "Python 3",
   "language": "python",
   "name": "python3"
  },
  "language_info": {
   "codemirror_mode": {
    "name": "ipython",
    "version": 2
   },
   "file_extension": ".py",
   "mimetype": "text/x-python",
   "name": "python",
   "nbconvert_exporter": "python",
   "pygments_lexer": "ipython2",
   "version": "2.7.6"
  }
 },
 "nbformat": 4,
 "nbformat_minor": 0
}
